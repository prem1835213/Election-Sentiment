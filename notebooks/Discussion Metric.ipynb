{
 "cells": [
  {
   "cell_type": "code",
   "execution_count": 1,
   "metadata": {},
   "outputs": [],
   "source": [
    "import os\n",
    "import subprocess\n",
    "import re\n",
    "import json\n",
    "import numpy as np\n",
    "import pandas as pd\n",
    "import glob\n",
    "import datetime\n",
    "import matplotlib.pyplot as plt\n",
    "import seaborn as sns"
   ]
  },
  {
   "cell_type": "code",
   "execution_count": 2,
   "metadata": {},
   "outputs": [],
   "source": [
    "data_folder = '../data/hydrated_tweets/og_tweets'"
   ]
  },
  {
   "cell_type": "code",
   "execution_count": 3,
   "metadata": {},
   "outputs": [
    {
     "data": {
      "text/plain": [
       "['og_2020.jsonl', 'og_2016.jsonl', 'og_ids.txt', 'og_2020_ids.txt']"
      ]
     },
     "execution_count": 3,
     "metadata": {},
     "output_type": "execute_result"
    }
   ],
   "source": [
    "os.listdir(data_folder)"
   ]
  },
  {
   "cell_type": "code",
   "execution_count": 4,
   "metadata": {},
   "outputs": [],
   "source": [
    "file_2020 = os.path.join(data_folder, 'og_2020.jsonl')\n",
    "file_2016 = os.path.join(data_folder, 'og_2016.jsonl')"
   ]
  },
  {
   "cell_type": "code",
   "execution_count": 5,
   "metadata": {},
   "outputs": [],
   "source": [
    "with open(file_2020) as f:\n",
    "    tweets_2020 = f.readlines()\n",
    "tweets_2020 = [json.loads(tweet) for tweet in tweets_2020]"
   ]
  },
  {
   "cell_type": "code",
   "execution_count": 6,
   "metadata": {},
   "outputs": [
    {
     "data": {
      "text/plain": [
       "86176"
      ]
     },
     "execution_count": 6,
     "metadata": {},
     "output_type": "execute_result"
    }
   ],
   "source": [
    "len(tweets_2020)"
   ]
  },
  {
   "cell_type": "code",
   "execution_count": 7,
   "metadata": {},
   "outputs": [],
   "source": [
    "with open(file_2016) as f:\n",
    "    tweets_2016 = f.readlines()\n",
    "tweets_2016 = [json.loads(tweet) for tweet in tweets_2016]"
   ]
  },
  {
   "cell_type": "code",
   "execution_count": 8,
   "metadata": {},
   "outputs": [
    {
     "data": {
      "text/plain": [
       "83580"
      ]
     },
     "execution_count": 8,
     "metadata": {},
     "output_type": "execute_result"
    }
   ],
   "source": [
    "len(tweets_2016)"
   ]
  },
  {
   "cell_type": "code",
   "execution_count": 9,
   "metadata": {},
   "outputs": [],
   "source": [
    "def get_date(tweet):\n",
    "    return datetime.datetime.strptime(tweet['created_at'], '%a %b %d %X %z %Y').date()"
   ]
  },
  {
   "cell_type": "code",
   "execution_count": 10,
   "metadata": {},
   "outputs": [],
   "source": [
    "def get_discussion(tweet):\n",
    "    return tweet['favorite_count']+ tweet['retweet_count']"
   ]
  },
  {
   "cell_type": "code",
   "execution_count": 11,
   "metadata": {},
   "outputs": [
    {
     "name": "stdout",
     "output_type": "stream",
     "text": [
      "CPU times: user 3.71 s, sys: 445 ms, total: 4.15 s\n",
      "Wall time: 4.15 s\n"
     ]
    }
   ],
   "source": [
    "%%time\n",
    "twt_dic_2020 = {}\n",
    "for tweet in tweets_2020:\n",
    "    date = get_date(tweet)\n",
    "    if date in twt_dic_2020:\n",
    "        twt_dic_2020[date].append(tweet)\n",
    "    else:\n",
    "        twt_dic_2020[date] = [tweet]\n",
    "\n",
    "twt_dic_2016 = {}\n",
    "for tweet in tweets_2016:\n",
    "    date = get_date(tweet)\n",
    "    if date in twt_dic_2016:\n",
    "        twt_dic_2016[date].append(tweet)\n",
    "    else:\n",
    "        twt_dic_2016[date] = [tweet]"
   ]
  },
  {
   "cell_type": "code",
   "execution_count": 12,
   "metadata": {},
   "outputs": [
    {
     "data": {
      "text/plain": [
       "datetime.date(2020, 9, 21)"
      ]
     },
     "execution_count": 12,
     "metadata": {},
     "output_type": "execute_result"
    }
   ],
   "source": [
    "list(twt_dic_2020.keys())[0]"
   ]
  },
  {
   "cell_type": "code",
   "execution_count": 13,
   "metadata": {},
   "outputs": [],
   "source": [
    "disc_2020 = {}\n",
    "for date in twt_dic_2020:\n",
    "    tweet_lst = twt_dic_2020[date]\n",
    "    discussion_lst = np.array([get_discussion(tweet) for tweet in tweet_lst])\n",
    "    disc_2020[date] = discussion_lst\n",
    "    \n",
    "disc_2016 = {}\n",
    "for date in twt_dic_2016:\n",
    "    tweet_lst = twt_dic_2016[date]\n",
    "    discussion_lst = np.array([get_discussion(tweet) for tweet in tweet_lst])\n",
    "    disc_2016[date] = discussion_lst\n",
    "    \n"
   ]
  },
  {
   "cell_type": "code",
   "execution_count": 14,
   "metadata": {},
   "outputs": [],
   "source": [
    "# plt.hist(np.log(disc_2020[datetime.date(2020, 9, 21)] + 1))"
   ]
  },
  {
   "cell_type": "code",
   "execution_count": 15,
   "metadata": {},
   "outputs": [],
   "source": [
    "disc_by_day_20 = {}\n",
    "disc_by_day_16 = {}\n",
    "for date in disc_2020:\n",
    "    disc_by_day_20[date] = disc_2020[date].sum()\n",
    "for date in disc_2016:\n",
    "    disc_by_day_16[date] = disc_2016[date].sum()"
   ]
  },
  {
   "cell_type": "code",
   "execution_count": 16,
   "metadata": {},
   "outputs": [],
   "source": [
    "log_disc_20 = {}\n",
    "log_disc_16 = {}\n",
    "for date in disc_by_day_20:\n",
    "    log_disc_20[date] = np.log(disc_by_day_20[date] + 1)\n",
    "for date in disc_by_day_16:\n",
    "    log_disc_16[date] = np.log(disc_by_day_16[date] + 1)"
   ]
  },
  {
   "cell_type": "code",
   "execution_count": 17,
   "metadata": {},
   "outputs": [
    {
     "data": {
      "image/png": "[encoded data removed]",
      "text/plain": [
       "<Figure size 432x288 with 1 Axes>"
      ]
     },
     "metadata": {
      "needs_background": "light"
     },
     "output_type": "display_data"
    }
   ],
   "source": [
    "disc_2016_plot = sns.histplot(log_disc_16.values(), legend=False).set_title(\"2016 Daily Discussion Levels\")"
   ]
  },
  {
   "cell_type": "code",
   "execution_count": 18,
   "metadata": {},
   "outputs": [
    {
     "data": {
      "text/plain": [
       "Text(0.5, 1.0, '2020 Daily Discussion Levels')"
      ]
     },
     "execution_count": 18,
     "metadata": {},
     "output_type": "execute_result"
    },
    {
     "data": {
      "image/png": "[encoded data removed]",
      "text/plain": [
       "<Figure size 432x288 with 1 Axes>"
      ]
     },
     "metadata": {
      "needs_background": "light"
     },
     "output_type": "display_data"
    }
   ],
   "source": [
    "sns.histplot(log_disc_20.values(), legend=False).set_title(\"2020 Daily Discussion Levels\")"
   ]
  },
  {
   "cell_type": "code",
   "execution_count": 19,
   "metadata": {},
   "outputs": [
    {
     "data": {
      "text/plain": [
       "Text(0.5, 0, 'Daily Discussion')"
      ]
     },
     "execution_count": 19,
     "metadata": {},
     "output_type": "execute_result"
    },
    {
     "data": {
      "image/png": "[encoded data removed]",
      "text/plain": [
       "<Figure size 432x288 with 1 Axes>"
      ]
     },
     "metadata": {
      "needs_background": "light"
     },
     "output_type": "display_data"
    }
   ],
   "source": [
    "plt.hist([list(log_disc_16.values()), list(log_disc_20.values())], color=['r','b'], alpha=0.5)\n",
    "plt.legend(['2016', '2020'])\n",
    "plt.title(\"2016 vs 2020\")\n",
    "plt.xlabel(\"Daily Discussion\")"
   ]
  },
  {
   "cell_type": "code",
   "execution_count": 20,
   "metadata": {
    "scrolled": true
   },
   "outputs": [
    {
     "data": {
      "text/plain": [
       "Text(0.5, 1.0, '2016 Daily Discussion Levels')"
      ]
     },
     "execution_count": 20,
     "metadata": {},
     "output_type": "execute_result"
    },
    {
     "data": {
      "image/png": "[encoded data removed]",
      "text/plain": [
       "<Figure size 432x288 with 1 Axes>"
      ]
     },
     "metadata": {
      "needs_background": "light"
     },
     "output_type": "display_data"
    }
   ],
   "source": [
    "plt.hist(log_disc_16.values(), color='red')\n",
    "plt.title(\"2016 Daily Discussion Levels\")"
   ]
  },
  {
   "cell_type": "code",
   "execution_count": 21,
   "metadata": {},
   "outputs": [
    {
     "data": {
      "text/plain": [
       "Text(0.5, 1.0, '2020 Daily Discussion Levels')"
      ]
     },
     "execution_count": 21,
     "metadata": {},
     "output_type": "execute_result"
    },
    {
     "data": {
      "image/png": "[encoded data removed]",
      "text/plain": [
       "<Figure size 432x288 with 1 Axes>"
      ]
     },
     "metadata": {
      "needs_background": "light"
     },
     "output_type": "display_data"
    }
   ],
   "source": [
    "plt.hist(log_disc_20.values(), color='blue')\n",
    "plt.title(\"2020 Daily Discussion Levels\")"
   ]
  },
  {
   "cell_type": "code",
   "execution_count": 26,
   "metadata": {},
   "outputs": [
    {
     "data": {
      "text/plain": [
       "10.676986015460773"
      ]
     },
     "execution_count": 26,
     "metadata": {},
     "output_type": "execute_result"
    }
   ],
   "source": [
    "np.array(list(log_disc_16.values())).mean()"
   ]
  },
  {
   "cell_type": "code",
   "execution_count": 25,
   "metadata": {},
   "outputs": [
    {
     "data": {
      "text/plain": [
       "0.6875"
      ]
     },
     "execution_count": 25,
     "metadata": {},
     "output_type": "execute_result"
    }
   ],
   "source": [
    "(13.42 - 10.67) / 4"
   ]
  },
  {
   "cell_type": "code",
   "execution_count": 29,
   "metadata": {},
   "outputs": [
    {
     "data": {
      "text/plain": [
       "11.296037307818526"
      ]
     },
     "execution_count": 29,
     "metadata": {},
     "output_type": "execute_result"
    }
   ],
   "source": [
    "np.median(np.array(list(log_disc_16.values())))"
   ]
  },
  {
   "cell_type": "code",
   "execution_count": 27,
   "metadata": {},
   "outputs": [
    {
     "data": {
      "text/plain": [
       "12.039310852341861"
      ]
     },
     "execution_count": 27,
     "metadata": {},
     "output_type": "execute_result"
    }
   ],
   "source": [
    "np.array(list(log_disc_20.values())).mean()"
   ]
  },
  {
   "cell_type": "code",
   "execution_count": 30,
   "metadata": {},
   "outputs": [
    {
     "data": {
      "text/plain": [
       "13.42418895097337"
      ]
     },
     "execution_count": 30,
     "metadata": {},
     "output_type": "execute_result"
    }
   ],
   "source": [
    "np.median(np.array(list(log_disc_20.values())))"
   ]
  },
  {
   "cell_type": "code",
   "execution_count": 24,
   "metadata": {},
   "outputs": [
    {
     "name": "stdout",
     "output_type": "stream",
     "text": [
      "created_at\n",
      "id\n",
      "id_str\n",
      "full_text\n",
      "truncated\n",
      "display_text_range\n",
      "entities\n",
      "extended_entities\n",
      "source\n",
      "in_reply_to_status_id\n",
      "in_reply_to_status_id_str\n",
      "in_reply_to_user_id\n",
      "in_reply_to_user_id_str\n",
      "in_reply_to_screen_name\n",
      "user\n",
      "geo\n",
      "coordinates\n",
      "place\n",
      "contributors\n",
      "is_quote_status\n",
      "retweet_count\n",
      "favorite_count\n",
      "favorited\n",
      "retweeted\n",
      "possibly_sensitive\n",
      "lang\n"
     ]
    }
   ],
   "source": [
    "for key in tweets_2016[0]:\n",
    "    print(key)"
   ]
  },
  {
   "cell_type": "code",
   "execution_count": 13,
   "metadata": {},
   "outputs": [],
   "source": [
    "disc_2016 = {}\n",
    "for tweet in tweets_2016:\n",
    "    date = get_date(tweet)\n",
    "    discussion = get_discussion(tweet)\n",
    "    if date in disc_2016:\n",
    "        disc_2016[date] += discussion\n",
    "    else:\n",
    "        disc_2016[date] = discussion"
   ]
  },
  {
   "cell_type": "code",
   "execution_count": 13,
   "metadata": {},
   "outputs": [],
   "source": [
    "med_2016 = np.median(np.array(list(disc_2016.values())))\n",
    "std_2016 = np.array(list(disc_2016.values())).std()"
   ]
  },
  {
   "cell_type": "code",
   "execution_count": 14,
   "metadata": {},
   "outputs": [],
   "source": [
    "norm_2016 = {}\n",
    "for elem in disc_2016:\n",
    "    norm_2016[elem] = (disc_2016[elem] - med_2016) / std_2016"
   ]
  },
  {
   "cell_type": "code",
   "execution_count": 15,
   "metadata": {},
   "outputs": [
    {
     "data": {
      "text/plain": [
       "(array([236.,   3.,   1.,   0.,   0.,   0.,   0.,   0.,   0.,   1.]),\n",
       " array([-5.95801687e-03,  1.44445505e+00,  2.89486813e+00,  4.34528120e+00,\n",
       "         5.79569427e+00,  7.24610734e+00,  8.69652041e+00,  1.01469335e+01,\n",
       "         1.15973466e+01,  1.30477596e+01,  1.44981727e+01]),\n",
       " <BarContainer object of 10 artists>)"
      ]
     },
     "execution_count": 15,
     "metadata": {},
     "output_type": "execute_result"
    },
    {
     "data": {
      "image/png": "[encoded data removed]",
      "text/plain": [
       "<Figure size 432x288 with 1 Axes>"
      ]
     },
     "metadata": {
      "needs_background": "light"
     },
     "output_type": "display_data"
    }
   ],
   "source": [
    "dates_2016,values_2016 = zip(*sorted(norm_2016.items()))\n",
    "\n",
    "plt.hist(values_2016)"
   ]
  },
  {
   "cell_type": "code",
   "execution_count": 16,
   "metadata": {},
   "outputs": [
    {
     "data": {
      "text/plain": [
       "[<matplotlib.lines.Line2D at 0x7f3bf7aea5b0>]"
      ]
     },
     "execution_count": 16,
     "metadata": {},
     "output_type": "execute_result"
    },
    {
     "data": {
      "image/png": "[encoded data removed]",
      "text/plain": [
       "<Figure size 432x288 with 1 Axes>"
      ]
     },
     "metadata": {
      "needs_background": "light"
     },
     "output_type": "display_data"
    }
   ],
   "source": [
    "plt.plot(dates_2016, values_2016)"
   ]
  },
  {
   "cell_type": "code",
   "execution_count": 17,
   "metadata": {},
   "outputs": [],
   "source": [
    "disc_2020 = {}\n",
    "for tweet in tweets_2020:\n",
    "    date = get_date(tweet)\n",
    "    discussion = get_discussion(tweet)\n",
    "    if date in disc_2020:\n",
    "        disc_2020[date] += discussion\n",
    "    else:\n",
    "        disc_2020[date] = discussion"
   ]
  },
  {
   "cell_type": "code",
   "execution_count": 18,
   "metadata": {},
   "outputs": [],
   "source": [
    "med_2020 = np.median(np.array(list(disc_2020.values())))\n",
    "std_2020 = np.array(list(disc_2020.values())).std()"
   ]
  },
  {
   "cell_type": "code",
   "execution_count": 19,
   "metadata": {},
   "outputs": [],
   "source": [
    "norm_2020 = {}\n",
    "for elem in disc_2020:\n",
    "    norm_2020[elem] = (disc_2020[elem] - med_2020) / std_2020"
   ]
  },
  {
   "cell_type": "code",
   "execution_count": 20,
   "metadata": {},
   "outputs": [
    {
     "data": {
      "text/plain": [
       "(array([204.,  59.,  32.,  11.,  10.,   1.,   2.,   1.,   1.,   1.]),\n",
       " array([-0.06938404,  0.61372377,  1.29683158,  1.97993938,  2.66304719,\n",
       "         3.346155  ,  4.02926281,  4.71237062,  5.39547843,  6.07858624,\n",
       "         6.76169405]),\n",
       " <BarContainer object of 10 artists>)"
      ]
     },
     "execution_count": 20,
     "metadata": {},
     "output_type": "execute_result"
    },
    {
     "data": {
      "image/png": "[encoded data removed]",
      "text/plain": [
       "<Figure size 432x288 with 1 Axes>"
      ]
     },
     "metadata": {
      "needs_background": "light"
     },
     "output_type": "display_data"
    }
   ],
   "source": [
    "dates_2020,values_2020 = zip(*sorted(norm_2020.items()))\n",
    "\n",
    "plt.hist(values_2020)"
   ]
  },
  {
   "cell_type": "code",
   "execution_count": 21,
   "metadata": {},
   "outputs": [
    {
     "data": {
      "text/plain": [
       "[<matplotlib.lines.Line2D at 0x7f3bf79e21c0>]"
      ]
     },
     "execution_count": 21,
     "metadata": {},
     "output_type": "execute_result"
    },
    {
     "data": {
      "image/png": "[encoded data removed]",
      "text/plain": [
       "<Figure size 432x288 with 1 Axes>"
      ]
     },
     "metadata": {
      "needs_background": "light"
     },
     "output_type": "display_data"
    }
   ],
   "source": [
    "plt.plot(dates_2020, values_2020)"
   ]
  },
  {
   "cell_type": "code",
   "execution_count": 22,
   "metadata": {},
   "outputs": [
    {
     "data": {
      "text/plain": [
       "80501.0"
      ]
     },
     "execution_count": 22,
     "metadata": {},
     "output_type": "execute_result"
    }
   ],
   "source": [
    "med_2016"
   ]
  },
  {
   "cell_type": "code",
   "execution_count": 23,
   "metadata": {},
   "outputs": [
    {
     "data": {
      "text/plain": [
       "676675.5"
      ]
     },
     "execution_count": 23,
     "metadata": {},
     "output_type": "execute_result"
    }
   ],
   "source": [
    "med_2020"
   ]
  },
  {
   "cell_type": "code",
   "execution_count": null,
   "metadata": {},
   "outputs": [],
   "source": []
  }
 ],
 "metadata": {
  "kernelspec": {
   "display_name": "Python 3 (clean)",
   "language": "python",
   "name": "python3_clean"
  },
  "language_info": {
   "codemirror_mode": {
    "name": "ipython",
    "version": 3
   },
   "file_extension": ".py",
   "mimetype": "text/x-python",
   "name": "python",
   "nbconvert_exporter": "python",
   "pygments_lexer": "ipython3",
   "version": "3.8.6"
  }
 },
 "nbformat": 4,
 "nbformat_minor": 4
}
